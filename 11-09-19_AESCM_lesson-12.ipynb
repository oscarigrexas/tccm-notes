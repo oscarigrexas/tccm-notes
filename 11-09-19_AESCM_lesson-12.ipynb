{
 "cells": [
  {
   "cell_type": "markdown",
   "metadata": {},
   "source": [
    "# AESCM lesson 12\n",
    "- **Hour: 4**\n",
    "- **Professor: Stefano Evangelisti**"
   ]
  },
  {
   "cell_type": "markdown",
   "metadata": {},
   "source": [
    "## Calculation on a \"new\" molecule\n",
    "- Choose a basis set (LCAO)\n",
    "- - Slater-type orbitals (STO)\n",
    "- - Gaussian-type orbitals (GTO)\n",
    "- - Contracted GTO (C-GTO)\n",
    "- Choose a correlated-electron set\n",
    "- Choose a method\n",
    "- - Hartree-Fock SCF\n",
    "- - DFT+functional\n",
    "- - CAS-SCF\n",
    "- - Multi-reference CI/multi-reference PT\n",
    "- - Coupled-cluster (no MR)\n",
    "- - DMRG, QMC"
   ]
  },
  {
   "cell_type": "markdown",
   "metadata": {},
   "source": [
    "You won't get the correct energy unless you properly describe the **nuclear cusp**, which has a behavior similar to $e^{-\\alpha r}$. STOs are good at that!"
   ]
  },
  {
   "cell_type": "markdown",
   "metadata": {},
   "source": [
    "$$\\sigma_g=\\frac{1}{\\sqrt{2}}(s_A+s_B)$$\n",
    "$$\\sigma_g\\bar{\\sigma_g}=\\frac{1}{2}[s_A\\bar{s_A} + s_A\\bar{s_B} + s_B\\bar{s_A} + s_B\\bar{s_B}]$$\n",
    "\n",
    "$s_A\\bar{s_A}$ and $s_B\\bar{s_B}$ are $H^+ + H^-$\n",
    "\n",
    "$s_A\\bar{s_B}$ and $s_B\\bar{s_A}$ are two $H$"
   ]
  },
  {
   "cell_type": "markdown",
   "metadata": {},
   "source": [
    "### Size consistency\n",
    "Let's say you have two fragments, A and B.\n",
    "\n",
    "$E_{A...\\infty ...B}=E_A + E_B$\n",
    "\n",
    "I NEED TO FIND OUT MORE ABOUT THIS."
   ]
  },
  {
   "cell_type": "markdown",
   "metadata": {},
   "source": [
    "## Random notes\n",
    "- The number of integrals in a computation grows according to $\\frac{N^4}{8}$, because of the indices $(ij|kl)$ and the simplifications that can be attained using permutations\n",
    "- There are really efficient algorithms to compute GTOs\n",
    "- ANO (Atomic Natural Orbitals)\n",
    "- Energies obtained using variational methods are always higher than the real values\n",
    "- In a variational method, for basis set B2 to yield better results than basis set B1, B1 must be contained within B2\n",
    "- You only improve a wave function by adding relevant orbitals that are actually used\n",
    "- The variational principle explains stuff\n",
    "- It's extremely difficult to work with non-Abelian symmetries, and d2h is the largest Abelian subgroup in the infinite h\n",
    "- In the $H_2$ molecule, $1s+1s=\\sigma_g\\bar{\\sigma_g}\\rightarrow^1\\Sigma_g$\n",
    "- Dispersion: interaction due to the phase consistency of the fluctuation in the electrons of two atoms\n",
    "- The absolute value of the size consistency error is not very large\n",
    "- CI has size consistency error, but full CI corrects it\n",
    "- To be sure if a bond truly exists you need to make sure that the well fits at least one vibrational level"
   ]
  }
 ],
 "metadata": {
  "kernelspec": {
   "display_name": "Python 3",
   "language": "python",
   "name": "python3"
  },
  "language_info": {
   "codemirror_mode": {
    "name": "ipython",
    "version": 3
   },
   "file_extension": ".py",
   "mimetype": "text/x-python",
   "name": "python",
   "nbconvert_exporter": "python",
   "pygments_lexer": "ipython3",
   "version": "3.7.3"
  }
 },
 "nbformat": 4,
 "nbformat_minor": 2
}
