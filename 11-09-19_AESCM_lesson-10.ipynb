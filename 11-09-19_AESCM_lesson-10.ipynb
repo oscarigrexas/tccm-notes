{
 "cells": [
  {
   "cell_type": "markdown",
   "metadata": {},
   "source": [
    "# AESCM lesson 10\n",
    "- **Hour: 2**\n",
    "- **Professor: Stefano Evangelisti**"
   ]
  },
  {
   "cell_type": "markdown",
   "metadata": {},
   "source": [
    "## Electron correlation, determinant expansion, coupled cluster"
   ]
  },
  {
   "cell_type": "markdown",
   "metadata": {},
   "source": [
    "#### Summary\n",
    "1. Second Quantization\n",
    "2. Hamiltonian and Density Matrices\n",
    "3. Determinant-based Methods\n",
    "4. Configuration Interaction\n",
    "5. Coupled Cluster\n",
    "6. Hydrogen Dimer\n",
    "7. Size Consistency\n",
    "8. Model Calculation (Homework)"
   ]
  },
  {
   "cell_type": "markdown",
   "metadata": {},
   "source": [
    "### Cool resources\n",
    "- Szabo _Modern Quantum Chemistry_\n",
    "- Helgaker _Molecular Electronic Structure Theory_\n",
    "- basissetexchange.org\n",
    "- MOLPRO User Manual"
   ]
  },
  {
   "cell_type": "markdown",
   "metadata": {},
   "source": [
    "### Hilbert Spaces, Fock Space\n",
    "Symmetric vs. antisymmetric wave functions\n",
    "\n",
    "Statistics: bossons and fermions\n",
    "\n",
    "Hilbert space $H^{(n)}$ associated to $n$ identical fermions (electrons in our case): Slater Determinants\n",
    "\n",
    "Fock Space: the direct sum of the Hilbert Spaces for all of the possible values of $n$\n",
    "\n",
    "It's crucial in high-energy physics (creation and anihilation processes), and it's also very convenient in QC."
   ]
  },
  {
   "cell_type": "markdown",
   "metadata": {},
   "source": [
    "### Second Quantization Creation Operators"
   ]
  },
  {
   "cell_type": "markdown",
   "metadata": {},
   "source": [
    "### Generalization\n",
    "Generalization to any Slater determinant\n",
    "\n",
    "$|\\phi>$ not containing neither $k$ nor $l$.\n",
    "\n",
    "For this type of determinants, whis implies:\n",
    "\n",
    "$$a_k^+ a_l^+ |\\phi> = -a_l^+ a_k^+ |\\phi>$$\n",
    "\n",
    "If either $k$ or $l$ are already occupied, the result is 0."
   ]
  },
  {
   "cell_type": "markdown",
   "metadata": {},
   "source": [
    "### Anihilation operators\n",
    "Since $|k>$ is normalized, we must have $||a_k^+|0>||=1$"
   ]
  },
  {
   "cell_type": "markdown",
   "metadata": {},
   "source": [
    "### Summary\n",
    "$$<0|0>=1$$\n",
    "$$a_k|0>=0$$\n",
    "Many more rules! Copy them sometime. hehe"
   ]
  },
  {
   "cell_type": "markdown",
   "metadata": {},
   "source": [
    "### Excitation operators\n",
    "The elementary excitation operators of order ($p$)"
   ]
  },
  {
   "cell_type": "markdown",
   "metadata": {},
   "source": [
    "### Electron hamiltonian in 2nd quantization\n",
    "$$\\hat{H}=\\hat{H}_0 + \\hat{H}_1 + \\hat{H}_2$$"
   ]
  },
  {
   "cell_type": "markdown",
   "metadata": {},
   "source": [
    "###### I JUST CANNOT KEEP UP AAAAAA!!!!"
   ]
  },
  {
   "cell_type": "markdown",
   "metadata": {},
   "source": [
    "### Methods\n",
    "- Hartree-Fock (HF), Self Consistent Field (SCF)"
   ]
  },
  {
   "cell_type": "markdown",
   "metadata": {},
   "source": [
    "### HF\n",
    "You take a single determinant, you describe it by using a set of orbitals, you obtain the wave function by minimizing the mean value over the MO coefficients.\n",
    "\n",
    "The HF wave function is:\n",
    "- Invariant for rotation that don't mix occupied and virtual orbitals\n",
    "- A variational bound to the exact energy\n",
    "- Size consistent"
   ]
  },
  {
   "cell_type": "markdown",
   "metadata": {},
   "source": [
    "### Full CI\n",
    "\n",
    "Full CI is:\n",
    "- Invariant for any orbital rotation\n",
    "- A variational bound to the exact energy\n",
    "- Size consistent"
   ]
  },
  {
   "cell_type": "markdown",
   "metadata": {},
   "source": []
  },
  {
   "cell_type": "markdown",
   "metadata": {},
   "source": [
    "## Random notes"
   ]
  }
 ],
 "metadata": {
  "kernelspec": {
   "display_name": "Python 3",
   "language": "python",
   "name": "python3"
  },
  "language_info": {
   "codemirror_mode": {
    "name": "ipython",
    "version": 3
   },
   "file_extension": ".py",
   "mimetype": "text/x-python",
   "name": "python",
   "nbconvert_exporter": "python",
   "pygments_lexer": "ipython3",
   "version": "3.7.3"
  }
 },
 "nbformat": 4,
 "nbformat_minor": 2
}
