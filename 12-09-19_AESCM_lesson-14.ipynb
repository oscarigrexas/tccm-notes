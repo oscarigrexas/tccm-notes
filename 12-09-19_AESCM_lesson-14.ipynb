{
 "cells": [
  {
   "cell_type": "markdown",
   "metadata": {},
   "source": [
    "# AESCM lesson 14\n",
    "- **Hour: 2**\n",
    "- **Professor: **"
   ]
  },
  {
   "cell_type": "markdown",
   "metadata": {},
   "source": [
    "## Wave function analyisis"
   ]
  },
  {
   "cell_type": "markdown",
   "metadata": {},
   "source": [
    "- Generalized Population Analysis: from Mulliken on\n",
    "- Natural Bond Orbitals: towards Lewis' dream\n",
    "- Quantum Chemical Topology: chemistry in real space\n",
    "\n",
    "- Chemistry and topology\n",
    "- The Quantum Theory of Atoms In Molecules (QTAIM)\n",
    "- Other scalar fields: the electron localization function\n",
    "- Related partitionings: restricted space partitioning\n",
    "- Generalized Population Analysis II: back to orbitals"
   ]
  },
  {
   "cell_type": "markdown",
   "metadata": {},
   "source": [
    "### Basic aspects"
   ]
  },
  {
   "cell_type": "markdown",
   "metadata": {},
   "source": [
    "- 1 determinant orbital model $\\Psi=|\\psi_1...\\psi_N|$\n",
    "- Linear variational procedure $\\phi_i=\\sum_p c_{ip}x_p$\n",
    "- Minimal basis: $\\mu=$ electron, $x_\\mu$ atom centered\n",
    "- $<x_\\nu|x_\\mu>=s_{\\nu\\mu}$ is key "
   ]
  },
  {
   "cell_type": "markdown",
   "metadata": {},
   "source": [
    "#### Bonding = Overlap!!!\n",
    "- $Q=PS=P'$ idempotent $Q=Q^2\\quad TrQ = TrQQ = ... = TrQ^n = N$\n",
    "- Partition in pairs, trios... of centers"
   ]
  },
  {
   "cell_type": "markdown",
   "metadata": {},
   "source": [
    "- Analyzing the 1-particle density in Fock Space"
   ]
  },
  {
   "cell_type": "markdown",
   "metadata": {},
   "source": [
    "### Analyzing the 1-particle density in Fock Space"
   ]
  },
  {
   "cell_type": "markdown",
   "metadata": {},
   "source": [
    "Much of the MO paradigm is based on minimal basis (MB) thinking\n",
    "- MB: one basis function per electron\n",
    "- Leads to Hückel or extended Hückel, atomic orbitals, atomic hybrids and molecular orbitals\n",
    "\n",
    "#### Hybrid orbitals\n",
    "Orbital hybridazation is one of the most useful qualitative valence concepts\n",
    "- It allows inmediate extension of the bonding-antibonding idea to polyatomics\n",
    "- bonding = sum; antibonding = subtraction"
   ]
  }
 ],
 "metadata": {
  "kernelspec": {
   "display_name": "Python 3",
   "language": "python",
   "name": "python3"
  },
  "language_info": {
   "codemirror_mode": {
    "name": "ipython",
    "version": 3
   },
   "file_extension": ".py",
   "mimetype": "text/x-python",
   "name": "python",
   "nbconvert_exporter": "python",
   "pygments_lexer": "ipython3",
   "version": "3.7.3"
  }
 },
 "nbformat": 4,
 "nbformat_minor": 2
}
