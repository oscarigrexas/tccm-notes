{
 "cells": [
  {
   "cell_type": "markdown",
   "metadata": {},
   "source": [
    "# Electronic structure of solids and surfaces\n",
    "**Professor: Pere Alemany**"
   ]
  },
  {
   "cell_type": "markdown",
   "metadata": {},
   "source": [
    "## Intro\n",
    "Electrons in solid state matter is a topic in which physics and chemistry hold different points of view.\n",
    "\n",
    "**Phyicists** see the free electrons slightly perturbed by the ion cores.\n",
    "Meanwhile, **chemists** see the valence electrons involved in chemical bonding."
   ]
  },
  {
   "cell_type": "markdown",
   "metadata": {},
   "source": [
    "There are four basic types of solids.\n",
    "- Closed shell solids (Ar)\n",
    "- Ionic solids (NaCl)\n",
    "- Covalent solids (diamond)\n",
    "- Metallic solids (Na)\n",
    "\n",
    "The main thing that sets them apart is the degree of localization of the electrons around the nuclei."
   ]
  },
  {
   "cell_type": "markdown",
   "metadata": {},
   "source": [
    "Again, **physicists** and **chemists** have kind of a different set of interests in regards to which properties are interesting to study or calculate.\n",
    "\n",
    "**Physics**\n",
    "- Cohesive energy\n",
    "- Relative phase stability\n",
    "- Mechanical properties\n",
    "- Thermal properties\n",
    "- Optical properties\n",
    "- Electronic transport\n",
    "- Magnetism\n",
    "\n",
    "**Chemistry**\n",
    "- Structure and bonding\n",
    "- Reactivity\n",
    "- Optical properties"
   ]
  },
  {
   "cell_type": "markdown",
   "metadata": {},
   "source": [
    "Of course, they also prefer a different set of tools!\n",
    "\n",
    "**Physics**\n",
    "- Plane waves & bands\n",
    "- Excitations\n",
    "- Localization\n",
    "- Fermi energy\n",
    "- Reciprocal space\n",
    "- **DFT**\n",
    "\n",
    "**Chemistry**\n",
    "- Molecular orbitals\n",
    "- Overlap populations\n",
    "- Electronegativity\n",
    "- Aromaticity\n",
    "- HOMO/LUMO\n",
    "- Point group symmetry\n",
    "- **Hartree Fock method**"
   ]
  },
  {
   "cell_type": "markdown",
   "metadata": {},
   "source": [
    "## Random notes\n",
    "- A heavy fermion is how a phisicist calls a localized electron"
   ]
  }
 ],
 "metadata": {
  "kernelspec": {
   "display_name": "Python 3",
   "language": "python",
   "name": "python3"
  },
  "language_info": {
   "codemirror_mode": {
    "name": "ipython",
    "version": 3
   },
   "file_extension": ".py",
   "mimetype": "text/x-python",
   "name": "python",
   "nbconvert_exporter": "python",
   "pygments_lexer": "ipython3",
   "version": "3.7.3"
  }
 },
 "nbformat": 4,
 "nbformat_minor": 2
}
