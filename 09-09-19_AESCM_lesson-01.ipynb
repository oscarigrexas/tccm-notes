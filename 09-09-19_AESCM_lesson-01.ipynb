{
 "cells": [
  {
   "cell_type": "markdown",
   "metadata": {},
   "source": [
    "# Electronic structure of solids and surfaces\n",
    "- **Hour: 1**\n",
    "- **Professor: Pere Alemany**"
   ]
  },
  {
   "cell_type": "markdown",
   "metadata": {},
   "source": [
    "## Intro\n",
    "Electrons in solid state matter is a topic in which physics and chemistry hold different points of view.\n",
    "\n",
    "**Phyicists** see the free electrons slightly perturbed by the ion cores.\n",
    "Meanwhile, **chemists** see the valence electrons involved in chemical bonding."
   ]
  },
  {
   "cell_type": "markdown",
   "metadata": {},
   "source": [
    "There are four basic types of solids.\n",
    "- Closed shell solids (Ar)\n",
    "- Ionic solids (NaCl)\n",
    "- Covalent solids (diamond)\n",
    "- Metallic solids (Na)\n",
    "\n",
    "The main thing that sets them apart is the degree of localization of the electrons around the nuclei."
   ]
  },
  {
   "cell_type": "markdown",
   "metadata": {},
   "source": [
    "Again, **physicists** and **chemists** have kind of a different set of interests in regards to which properties are interesting to study or calculate.\n",
    "\n",
    "**Physics**\n",
    "- Cohesive energy\n",
    "- Relative phase stability\n",
    "- Mechanical properties\n",
    "- Thermal properties\n",
    "- Optical properties\n",
    "- Electronic transport\n",
    "- Magnetism\n",
    "\n",
    "**Chemistry**\n",
    "- Structure and bonding\n",
    "- Reactivity\n",
    "- Optical properties"
   ]
  },
  {
   "cell_type": "markdown",
   "metadata": {},
   "source": [
    "Of course, they also prefer a different set of tools!\n",
    "\n",
    "**Physics**\n",
    "- Plane waves & bands\n",
    "- Excitations\n",
    "- Localization\n",
    "- Fermi energy\n",
    "- Reciprocal space\n",
    "- **DFT**\n",
    "\n",
    "**Chemistry**\n",
    "- Molecular orbitals\n",
    "- Overlap populations\n",
    "- Electronegativity\n",
    "- Aromaticity\n",
    "- HOMO/LUMO\n",
    "- Point group symmetry\n",
    "- **Hartree Fock method**"
   ]
  },
  {
   "cell_type": "markdown",
   "metadata": {},
   "source": [
    "**Material science** is sort of a bridge between physics and chemistry.\n",
    "\n",
    "<img src=\"img/vanarkel.jpg\">\n",
    "\n",
    "It motivates the development of general methods that can properly describe electronic structure in all situations (even molecular solids), bonding, properties, reactivity..."
   ]
  },
  {
   "cell_type": "markdown",
   "metadata": {},
   "source": [
    "## Use of ab-initio electronic structure methods in material science\n",
    "- **Clarification/complement** of experimental information by precisely controlling simulation conditions\n",
    "- **Exploration and prediction** simulating experiments that are difficult (or even impossible) in the lab\n",
    "- **Design of materials** with cool properties, reducing the *trial and error* loop\n",
    "- **Paremetrization** of simpler models"
   ]
  },
  {
   "cell_type": "markdown",
   "metadata": {},
   "source": [
    "## Some examples\n",
    "\n",
    "### Simulation of X-ray diffraction\n",
    "When you simulate an X-ray diffraction experiment you are actually detecting the distribution of the e⁻ density (which implies the position of the e⁻ themselves). Nowadays calculating electron density is trivial! (and you need to do it anyway most of the time)\n",
    "\n",
    "You can also simulate ORTEP drawings (governed by Atomic Displacement Parameters) at different temperatures using electronic structure methods. Neat!\n",
    "\n",
    "### Clarification of ARPES experiments\n",
    "ARPES means Angle Resolved Photoemission Spectroscopy, and it's used to study the band structure of a solid's occupied levels.\n",
    "\n",
    "### Structure and elastic modulation of 2D materials\n",
    "You can study a single layer of a material and compare its properties to those of the bulk. Very cool.\n",
    "\n",
    "### Simulation of relative phase stability in extreme conditions relavant for geophysics\n",
    "This has to do with the different structures and phases that a solid can adopt depending on tempeperature and pressure.\n",
    "\n",
    "### Prediction of unknown phases at high pressures\n",
    "There are some freaking cool exotic phases that aren't normally considered by simple lowly chemists but can indeed be calculated.\n",
    "\n",
    "### Design of new semiconductors with taylored band gap for led development\n",
    "You can calculate the precise band gap that you want and choose the perfect material to build your dream colored led!\n",
    "\n",
    "### Extracting parameters for simple models from ab initio calculations"
   ]
  },
  {
   "cell_type": "markdown",
   "metadata": {},
   "source": [
    "## Random notes\n",
    "- A heavy fermion is how a phisicist calls a localized electron\n",
    "- DFT would work better on heavily compressed systems than in expanded ones"
   ]
  }
 ],
 "metadata": {
  "kernelspec": {
   "display_name": "Python 3",
   "language": "python",
   "name": "python3"
  },
  "language_info": {
   "codemirror_mode": {
    "name": "ipython",
    "version": 3
   },
   "file_extension": ".py",
   "mimetype": "text/x-python",
   "name": "python",
   "nbconvert_exporter": "python",
   "pygments_lexer": "ipython3",
   "version": "3.7.3"
  }
 },
 "nbformat": 4,
 "nbformat_minor": 2
}
