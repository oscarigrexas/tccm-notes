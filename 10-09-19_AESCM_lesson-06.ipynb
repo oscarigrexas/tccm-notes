{
 "cells": [
  {
   "cell_type": "markdown",
   "metadata": {},
   "source": [
    "# AESCM lesson 06\n",
    "- **Hour: 2**\n",
    "- **Professor: Pere Alemany**"
   ]
  },
  {
   "cell_type": "markdown",
   "metadata": {},
   "source": [
    "## Independent particle approximation for the N-electron problem"
   ]
  },
  {
   "cell_type": "markdown",
   "metadata": {},
   "source": [
    "There are two basic **delicious flavors** of independent electron approximations where electrons are not correlated (expect for they must obey Pauli's principle).\n",
    "- Non-interacting (Hartree-like)\n",
    "- Hartree-Fock"
   ]
  },
  {
   "cell_type": "markdown",
   "metadata": {},
   "source": [
    "### Non-interacting (Hartree-like) electron approximations\n",
    "\n",
    "In non-interacting theories there isn't any explicit interaction term! (although the potential includes it to a certain extent).\n",
    "\n",
    "All calculations based on the Kohn-Sham methods consider a non-interacting Hamiltonian.\n",
    "\n",
    "In Hartree-like methods there's no need to construct an antisymmetric wave function literally!\n",
    "\n",
    "The GS is found by occupying the levels following the exclusion principle.\n",
    "\n",
    "**Expectation values**\n",
    "\n",
    "N-electron states are specified by the set of occupation numbers $n_1^0=0,1$ of independent particle states with energies $\\epsilon_1^0$"
   ]
  },
  {
   "cell_type": "markdown",
   "metadata": {},
   "source": [
    "## The periodic nature of $V_\\textit{ext}(R)$"
   ]
  },
  {
   "cell_type": "markdown",
   "metadata": {},
   "source": [
    "In a macroscopic sample of a material, N is within the order of $10^{23}$ (which is a very big lot, the N-electron problem cannot be solved even with the indpendent particle approximation).\n",
    "\n",
    "However, we can take advantage of the fact that many solids have periodic structures in the shape of **crystal lattices** to reduce the calculation of $N$ independent electron equations to $KN_\\textit{cell}$ independent electron equations within one single unit cell."
   ]
  },
  {
   "cell_type": "markdown",
   "metadata": {},
   "source": [
    "### The lattice of translations\n",
    "The set of all translations forms a lattice of points in space in which any translation can be written as integral multiples of a set of primitive vectors.\n",
    "\n",
    "The choice of primitive vectors is not unique!! It's enough if they cover all lattice points."
   ]
  },
  {
   "cell_type": "markdown",
   "metadata": {},
   "source": [
    "### The 14 Bravais lattices in 3D space\n",
    "<img src=\"img/bravlat.gif\">"
   ]
  },
  {
   "cell_type": "markdown",
   "metadata": {},
   "source": [
    "## The basis of atoms\n",
    "Lattice points are obtained by applying the translation vectors to a reference point.\n",
    "\n",
    "Atomic positions in a basis of S atoms are given by a set of vectors $\\{\\tau_i\\}_S$ defined relative to any point in the lattice"
   ]
  },
  {
   "cell_type": "markdown",
   "metadata": {},
   "source": [
    "### Bloch functions and bands of eigenvalues"
   ]
  },
  {
   "cell_type": "markdown",
   "metadata": {},
   "source": [
    "### Conservation of crystal momentum"
   ]
  },
  {
   "cell_type": "code",
   "execution_count": null,
   "metadata": {},
   "outputs": [],
   "source": []
  }
 ],
 "metadata": {
  "kernelspec": {
   "display_name": "Python 3",
   "language": "python",
   "name": "python3"
  },
  "language_info": {
   "codemirror_mode": {
    "name": "ipython",
    "version": 3
   },
   "file_extension": ".py",
   "mimetype": "text/x-python",
   "name": "python",
   "nbconvert_exporter": "python",
   "pygments_lexer": "ipython3",
   "version": "3.7.3"
  }
 },
 "nbformat": 4,
 "nbformat_minor": 2
}
