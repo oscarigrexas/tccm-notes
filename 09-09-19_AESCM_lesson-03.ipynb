{
 "cells": [
  {
   "cell_type": "markdown",
   "metadata": {},
   "source": [
    "# AESCM lesson 03 (continuation of 01)\n",
    "- **Hour: 3**\n",
    "- **Professor: Pere Alemany**"
   ]
  },
  {
   "cell_type": "markdown",
   "metadata": {},
   "source": [
    "## Some examples\n",
    "\n",
    "### Extracting parameters for simple models from ab initio calculations\n",
    "Essentially you use these methods as benchmarks??"
   ]
  },
  {
   "cell_type": "markdown",
   "metadata": {},
   "source": [
    "## A final warning\n",
    ">*A simple model can shed mor light on Nature's workings that a series of *ab-initio* calculations of individual cases, which, even if correct, are so detailed that they hide reality insted of revelaing it... A perfect computation simply reproduces Nature, it does not explain it.*\n",
    "\n",
    "P.W. Anderson"
   ]
  },
  {
   "cell_type": "markdown",
   "metadata": {},
   "source": [
    "## Recommended books\n",
    "\n",
    "*Solid State Physics* by Ashcroft/Mermin\n",
    "\n",
    "*Fundamentals of Condensed Matter Physics* by Cohen/Louie\n",
    "\n",
    "*Solids and Surfaces: A Chemist's View of Bonding in Extended Structures* by Hoffmann\n",
    "\n",
    "*Computational Chemistry of Solid State Materials* by"
   ]
  },
  {
   "cell_type": "markdown",
   "metadata": {},
   "source": [
    "..."
   ]
  },
  {
   "cell_type": "markdown",
   "metadata": {},
   "source": [
    "# Next topic!"
   ]
  },
  {
   "cell_type": "markdown",
   "metadata": {},
   "source": [
    "## A material is made just by electrons and nuclei"
   ]
  },
  {
   "cell_type": "markdown",
   "metadata": {},
   "source": [
    "The basic equation that must be solved for most (non relativistic) systems of electrons and nuclei is the time-dependent Schrödinger's equation.\n",
    "\n",
    "$$\\hat{H}\\Psi(r_1,...r_n)=E\\Psi(r_1,...r_n)$$\n",
    "\n",
    "It's defined in a space of **3N dimensions**."
   ]
  },
  {
   "cell_type": "markdown",
   "metadata": {},
   "source": [
    "### Big problem: exponential complexity\n",
    "\n",
    "Solving Schrödinger's equation in a computer can be approached by discretising space (i.e. creating grids). However, the computational costs of those grids increases **exponentially** with respect to the amount of dimensions (3N). We need to be practical to be able to solve these equations, brute force doesn't work."
   ]
  },
  {
   "cell_type": "markdown",
   "metadata": {},
   "source": [
    "### First-principles calculations to simulate the behavior of matter\n",
    "- Fundamental laws of physics\n",
    "- Set of \"accepted\" approximations to solve the corresponding equations on a computer\n",
    "- No empirical input\n",
    "\n",
    "**PREDICTIVE POWER >:)**"
   ]
  },
  {
   "cell_type": "markdown",
   "metadata": {},
   "source": [
    "### Hamiltonian for a system of interacting electrons and nuclei\n",
    "- electronic kinetic E\n",
    "- e-n potential E\n",
    "- e-e potential E\n",
    "- nuclear kinetic E\n",
    "- n-n potential E\n",
    "- relativistic term"
   ]
  },
  {
   "cell_type": "markdown",
   "metadata": {},
   "source": [
    "### Adiabatic decoupling (Born-Oppenheimer approximation)\n",
    "Essentially separates the problem in two separate steps:\n",
    "1. We consider the nuclei as fixed (since nuclear dynamic occur in a much slower timescale) and solve the system as an N electron problem\n",
    "2. We do this for many different nuclear configurations\n",
    "\n",
    "It should be noted that are problems in which the BO approximation cannot be applied. For example, in superconduction, the electronic phenomena is tied to the movement of the nuclei and therefore they cannot be decoupled."
   ]
  },
  {
   "cell_type": "markdown",
   "metadata": {},
   "source": [
    "So, the N electron problem...\n",
    "\n",
    "Schrödinger's equation for the electrons:\n",
    "\n",
    "$$\\hat{H}\\Psi(r_1,...r_n)=E\\Psi(r_1,...r_n)$$\n",
    "\n",
    "With:\n",
    "\n",
    "$$\\hat{H}_\\textit{el}=\\hat{T}+\\hat{V}_\\textit{int}+\\hat{V}_\\textit{ext}$$\n",
    "\n",
    "It's exactly solvable just for:\n",
    "- One particle (analytically)\n",
    "- A few particles (numerically)"
   ]
  },
  {
   "cell_type": "markdown",
   "metadata": {},
   "source": [
    "It's kinda sad, but this innocent looking term is one of the hardest and most time consuming to solve:\n",
    "\n",
    "$$\\hat{V}_\\textit{int} = \\frac{1}{2}\\sum_{i\\neq j}\\frac{1}{|r_i - r_j|}$$"
   ]
  },
  {
   "cell_type": "markdown",
   "metadata": {},
   "source": [
    "### Different approaches\n",
    "- Quantum Chemistry (HF, CI...)\n",
    "- Quantum Monte Carlo\n",
    "- Perturbation Theory\n",
    "- Density Functional Theory\n",
    "\n",
    "Usually, the best compromise between efficiency and accuracy is DFT!"
   ]
  },
  {
   "cell_type": "markdown",
   "metadata": {},
   "source": [
    "## The N-electron problem: basic equations\n",
    "The fundamental equation governing a non-relativistic quantum system is the time dependent Schröndinger equation:\n",
    "\n",
    "$$i\\hbar$$ aaaaaaaaa I didn't have enough time to copy it\n",
    "\n",
    "For an eigenstate, the time independent expression for any observable is an expectation value of an operator involving integration over all coordinates:\n",
    "\n",
    "$$<\\delta>=\\frac{<\\Psi|\\hat{O}|\\Psi>}{<\\Psi|\\Psi>}$$\n",
    "\n",
    "### Electronic Ground State\n",
    "The electronic GS is function is that with the lowest energy.\n",
    "\n",
    "$$\\hat{H}\\Psi_{\\textit{GS}}(\\{r_i\\})=E_{\\textit{GS}}\\Psi_{\\textit{GS}}(\\{r_i\\})$$"
   ]
  },
  {
   "cell_type": "markdown",
   "metadata": {},
   "source": [
    "### Excitations of the N-electron system\n",
    "Excitations in condensed matter physics comprise:\n",
    "- Small perturbations of the GS (e.g. changes of $R_1$ in phonon modes)\n",
    "- True electronic excitations (e.g. optical electronic excitations)\n",
    "\n",
    "In both cases, perturbation theory is a pretty nice tool to study them (although we need to find the GS first).\n",
    "Perturbative methods are valid for both many-body problems and independent particle methods (HF, DFT...)."
   ]
  },
  {
   "cell_type": "markdown",
   "metadata": {},
   "source": [
    "### Coulombic interactions in condensed matter\n",
    "- Any extended system must be neutral if the energy is to be finite\n",
    "- Coulombic terms in E must be organized in neutral groups for actual evaluation"
   ]
  },
  {
   "cell_type": "markdown",
   "metadata": {},
   "source": [
    "### Force (Hellmann-Feynmann) theorem\n",
    "Force conjugated to any parameter describing H of a system such as nuclear positions $R_1$\n",
    "\n",
    "$$F_1 = -\\frac{\\delta E}{\\delta R_1}$$\n",
    "\n",
    "$$-\\frac{\\delta E}{\\delta R_1} = -<\\Psi|\\frac{\\delta \\hat{H}}{aaaaa}|\\Psi> \\text{didn't finish :(}$$"
   ]
  },
  {
   "cell_type": "markdown",
   "metadata": {},
   "source": [
    "We have gone from solving huge problems with N electrons to solving N problems of independent electrons (interaction of a single electron with the average charge distribution due to the other electrons). :)"
   ]
  },
  {
   "cell_type": "markdown",
   "metadata": {},
   "source": [
    "## Random notes"
   ]
  }
 ],
 "metadata": {
  "kernelspec": {
   "display_name": "Python 3",
   "language": "python",
   "name": "python3"
  },
  "language_info": {
   "codemirror_mode": {
    "name": "ipython",
    "version": 3
   },
   "file_extension": ".py",
   "mimetype": "text/x-python",
   "name": "python",
   "nbconvert_exporter": "python",
   "pygments_lexer": "ipython3",
   "version": "3.7.3"
  }
 },
 "nbformat": 4,
 "nbformat_minor": 2
}
