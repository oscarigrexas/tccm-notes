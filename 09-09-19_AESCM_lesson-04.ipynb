{
 "cells": [
  {
   "cell_type": "markdown",
   "metadata": {},
   "source": [
    "# AESCM lesson 04 (continuation of 02)\n",
    "- **Hour: 4**\n",
    "- **Professor: Coen de Graff**"
   ]
  },
  {
   "cell_type": "markdown",
   "metadata": {},
   "source": [
    "## Continuing CASPT2"
   ]
  },
  {
   "cell_type": "markdown",
   "metadata": {},
   "source": [
    "### Wrapping up some key points\n",
    "- CCSD(T) and DFT are very powerful methods to do chemistry! BUT\n",
    "- A single determinant is not always a reliable starting point (single reference methods, so HF is usually a nice start)\n",
    "- Avoid bias by simultaneous optimization of CI expansion and orbital coefficients\n",
    "- CASSCF lets us construct the MC wave functions in terms of orbitals\n",
    "- Accurate calculations requite to go beyond CASSCF\n",
    "- CASPT2 is very succesful, but you have to keep an eye on intruder states (-0.15 eV accuracy in $E_\\textit{abs}$)\n",
    "- NEVPT2 is an interesting alternative! (whatever it is :D)"
   ]
  },
  {
   "cell_type": "markdown",
   "metadata": {},
   "source": [
    "## Spin functions\n",
    "It turns out that the usual arrow-up/arrow-down representation of a singlet is not a very good one.\n",
    "\n",
    "$$\\Phi = |\\phi_1\\bar{\\phi_2}|$$\n",
    "\n",
    "$$[\\hat{S}_z,\\hat{S}^2]=0 \\quad [\\hat{S}_z,\\hat{S}^2]=0 \\quad [\\hat{S}_z,\\hat{S}^2]=0$$\n",
    "\n",
    "**Complete these equations!!!!!** :(((("
   ]
  },
  {
   "cell_type": "markdown",
   "metadata": {},
   "source": [
    "What is the proper eigenfunction of the open shell singlet?\n",
    "\n",
    "Spin functions by genealogical approach:\n",
    "1. Start with N=1  $\\quad\\Psi(N-1)-\\alpha(1)$\n",
    "2. Couple the second electron in parallel with the *add* formula\n",
    "3. Couple the second electron in antiparallel with the *subtract* formula"
   ]
  },
  {
   "cell_type": "markdown",
   "metadata": {},
   "source": [
    "If $<\\phi_1|\\phi_2>=1$\n",
    "\n",
    "If $<\\phi_1|\\phi_2>=0$"
   ]
  },
  {
   "cell_type": "markdown",
   "metadata": {},
   "source": [
    "We should be wary of spin contamination: mixings of singlets, triplets... which should not happen in our non relativistic work."
   ]
  },
  {
   "cell_type": "markdown",
   "metadata": {},
   "source": [
    "## Spin-orbit coupling\n",
    "It's a relativistic effect that is not considered in Schrödinger's equation (although it is in Dirac's).\n",
    "\n",
    "Is it important in a non relativistic world?\n",
    "\n",
    "Taking a cation-ligand system, it's responsible for:\n",
    "- Splitting the degenerate $M_s$ levels\n",
    "- Mixing the spin eigenfunctions\n",
    "\n",
    "<img src=\"img/spin-orbit-coupling.png\" style=\"width: 40%;\">\n",
    "\n",
    "Well... Dirac's equation is pretty fucking complicated. <:)\n",
    "\n",
    "It has some off-diagonal terms that connect small and large components. Can we find a unitary transformation that decouples them? Yup! It's the Foldy-Wouthuysen transformation, which is the basis for the Douglas-Kroll-Hess (DKH) Hamiltonian."
   ]
  },
  {
   "cell_type": "markdown",
   "metadata": {},
   "source": [
    "How to introduce the spin-orbit coupling in a one-component approach?\n",
    "\n",
    "1. Ground state and as many excited states as possible\n",
    "2. Apply the perturbation equation (outdated woooops)\n",
    "3. It's better to construct the spin-orbit interaction matrix and diagonalise for $E_i^{SO}$, $\\Psi_i^{SO}$ (diagonal matrix elements: CASPT2 energies, off-diagonal matrix elements: spin-orbit interactions)\n"
   ]
  },
  {
   "cell_type": "markdown",
   "metadata": {},
   "source": [
    "**Case study:** heptacoordinated $Ni^{\\textit{II}}$ complex\n",
    "\n",
    "1. aaaaa\n",
    "2. Spin-orbit coupling (diagonalization of 45x45 matrix, getting 45 energies and 45 wave functions)\n",
    "3. aaaaa"
   ]
  },
  {
   "cell_type": "markdown",
   "metadata": {},
   "source": [
    "## Alternatives to CASSCF\n",
    "CASSCF has a maximum of 18 active orbitals and is prone to \"configurational deadwood\".\n",
    "\n",
    "### Restricted Active Space SCF (RASSCF)\n",
    "- Easily doubles the active space\n",
    "- Convergence is more problematic\n",
    "- Generalized by GASSCF\n",
    "\n",
    "### Density Matrix Renormalization Group (DMRG)\n",
    "First: renormalization theory\n",
    "\n",
    "*CHAIN OF ISING SPINS* **WHAT AAAAAAAAAAA**"
   ]
  },
  {
   "cell_type": "markdown",
   "metadata": {},
   "source": [
    " ## Random notes\n",
    "- Same energy, different wavefunctions: degenerate states"
   ]
  }
 ],
 "metadata": {
  "kernelspec": {
   "display_name": "Python 3",
   "language": "python",
   "name": "python3"
  },
  "language_info": {
   "codemirror_mode": {
    "name": "ipython",
    "version": 3
   },
   "file_extension": ".py",
   "mimetype": "text/x-python",
   "name": "python",
   "nbconvert_exporter": "python",
   "pygments_lexer": "ipython3",
   "version": "3.7.3"
  }
 },
 "nbformat": 4,
 "nbformat_minor": 2
}
