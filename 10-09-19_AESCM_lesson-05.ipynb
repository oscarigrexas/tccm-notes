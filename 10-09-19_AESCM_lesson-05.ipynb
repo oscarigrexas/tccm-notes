{
 "cells": [
  {
   "cell_type": "markdown",
   "metadata": {},
   "source": [
    "# AESCM lesson 05\n",
    "- **Hour: 1**\n",
    "- **Professor: Coen de Graff**"
   ]
  },
  {
   "cell_type": "markdown",
   "metadata": {},
   "source": [
    "## Renormalization theory applied to electronic structure theory\n",
    "\n",
    "### 1: Singular Value Decomposition (SVD)\n",
    "\n",
    "$$M=USV^{-1}$$\n",
    "\n",
    "S contains the singular values.\n",
    "\n",
    "### 2: Matrix Product States (MPS)\n",
    "\n",
    "- 0 (empy orbital)\n",
    "- u ($\\alpha$ orbital)\n",
    "- d ($\\beta$ orbital)\n",
    "- 2 (doubly occupied)"
   ]
  },
  {
   "cell_type": "markdown",
   "metadata": {},
   "source": [
    "### Renormalization theory workflow\n",
    "\n",
    "**Goal:** to write the CI wave function as a product of matrices by SVD\n",
    "\n",
    "1. Reshape $C_{\\sigma 1 ... \\sigma L}$ to a matrix of dimension $d$x$d^{L-1}$ (column-major order!)\n",
    "2. Apply SDV on the matrix\n",
    "3. Absorb S in V and rewrite in vector format\n",
    "4. Repeat: reshape $C_{\\alpha 1 ... \\sigma L}$ to a matrix of dimension $d$x$d^{L-2}$\n",
    "5. Repeat the SDV\n",
    "6. Repeat: abosrb S in V and rewrite in vector format\n",
    "7. Repeat the procedure to derive the full MPS\n",
    "\n",
    "Remember that this is just a fun way to rewrite the CI wave function!\n",
    "\n",
    "It's useful to control the dimensions of the problem (since you choose where do you want to make the cut) and simplify the system while minimizing the loss of information (you only remove elements that are very close to 0)."
   ]
  },
  {
   "cell_type": "markdown",
   "metadata": {},
   "source": [
    "### Regular Old Renormalization\n",
    "1. Order the active points in a 1D grid (exact representation of a site $\\{0,\\alpha,\\beta,2\\}$)\n",
    "2. Diagonalize $\\hat{H}$ in a small subset and represent $\\Psi$ as an MPS of dimension m\n",
    "3. Add a new orbital to the active subsystem\n",
    "4. Construct a new Hamiltonian of dimension 4m and diagonalize\n",
    "5. SDV to return to an MPS of dimension m\n",
    "6. Add a new orbital to the active subsystem\n",
    "7. Repeat up until the end of the lattice!\n",
    "\n",
    "However... this gives really poor results, it's pretty bad. :("
   ]
  },
  {
   "cell_type": "markdown",
   "metadata": {},
   "source": [
    "### Density Matrix Renormalization Group Theory\n",
    "1. Order the active points in a 1D grid\n",
    "2. Divide the orbitals in 3 groups: AS, ERS and CS (Active Subsystem, Exactly Represented Subsystem and Complimentary Subsystem)\n",
    "3. Diagonalize $\\hat{H}$ in AS and represent $\\Psi$ as m dimensional MPS\n",
    "4. Make an exact representation of ERS (16 dimensional MPS)\n",
    "5. Diagonalize $\\hat{H}$ in CS and construct m dimensional MPS\n",
    "6. Move one orbital from ERS to AS, defining AS'\n",
    "7. Construct MPS(AS') of dimension 4m\n",
    "8. Multiply AS x ERS x CS (m x 16 x m)\n",
    "9. SVD to represent AS' with an m dimensional MPS\n",
    "10. Move an orbital from CS to ERS\n",
    "11. Repeat the procedure starting from step number 3!\n",
    "12. Sweep back and forth several times\n",
    "\n",
    "This updated renormalization scheme is much more robust because you always take into account all of the orbitals."
   ]
  },
  {
   "cell_type": "markdown",
   "metadata": {},
   "source": [
    "### DMRG test cases\n",
    "\n",
    "A very impressive CAS(33,33) took about 6 days to complete. Not bad!"
   ]
  },
  {
   "cell_type": "markdown",
   "metadata": {},
   "source": [
    "## Random notes\n",
    "- I should take a look at the **quantum mechanics requirements**"
   ]
  }
 ],
 "metadata": {
  "kernelspec": {
   "display_name": "Python 3",
   "language": "python",
   "name": "python3"
  },
  "language_info": {
   "codemirror_mode": {
    "name": "ipython",
    "version": 3
   },
   "file_extension": ".py",
   "mimetype": "text/x-python",
   "name": "python",
   "nbconvert_exporter": "python",
   "pygments_lexer": "ipython3",
   "version": "3.7.3"
  }
 },
 "nbformat": 4,
 "nbformat_minor": 2
}
