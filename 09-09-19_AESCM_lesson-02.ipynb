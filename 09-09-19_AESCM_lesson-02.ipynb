{
 "cells": [
  {
   "cell_type": "markdown",
   "metadata": {},
   "source": [
    "# AESCM lesson 02\n",
    "- **Hour: 2**\n",
    "- **Professor: Coen de Graff**"
   ]
  },
  {
   "cell_type": "markdown",
   "metadata": {},
   "source": [
    "## Multiconfigurational Quantum Chemistry"
   ]
  },
  {
   "cell_type": "markdown",
   "metadata": {},
   "source": [
    "## The N-electron wave function\n",
    "\n",
    "We use the orbital approximation in which we write the wave function as a product of 4 dimensional objects (orbitals) instead of a single 4N dimensional object.\n",
    "\n",
    "**LCAO approximation:** Linear Combination of Atomic Orbitals (sum of basis functions multiplied by orbital coefficients)\n",
    "\n",
    "**Hartree-Fock:** Minimization of the energy with respect to the orbital coefficients.\n",
    "\n",
    "$$\\frac{\\delta E}{\\delta c_1}=0$$\n",
    "\n",
    "The Hartree Fock equations are, therefore, the best orbitals in the mean-field approximation, but they lack the electron correlation."
   ]
  },
  {
   "cell_type": "markdown",
   "metadata": {},
   "source": [
    "Exact N-electron wave function: expansion in N-electron basis functions?\n",
    "\n",
    "$$\\Psi_N = \\sum_i C_i \\phi_i$$\n",
    "\n",
    "Basis set with m basis functions -> m orbitals\n",
    "\n",
    "N electrons: $m>N$"
   ]
  },
  {
   "cell_type": "markdown",
   "metadata": {},
   "source": [
    "Configuration Interaction consists in using HF + single excitations, double excitations... Full CI would imply including all of them, but it's so computationally demanding that you can only use it for very small baby systems such as water or ammonia. Truncated CI is much more common."
   ]
  },
  {
   "cell_type": "markdown",
   "metadata": {},
   "source": [
    "The general workflow is the following:\n",
    "- Optimize the orbitals using HF (orbital coefficients)\n",
    "- Use this set of ornbitals to generate the N electron basis function (Slater determinants)\n",
    "- Optimize the CI coefficients (truncated CI) or the cluster amplitudes (CC)"
   ]
  },
  {
   "cell_type": "markdown",
   "metadata": {},
   "source": [
    "When more than one configuration is essential, we cannot just start from the HF orbitals!\n",
    "\n",
    "We have to make as many optimizations as configurations we want to describe: multiple determinants.\n",
    "\n",
    "This is important when your reactants and products have **different electronic structures**, and also in molecules such as ozone where there's **competing valence structures**."
   ]
  },
  {
   "cell_type": "markdown",
   "metadata": {},
   "source": [
    "We must avoid having biases towards one electronic configuration. How can we do this?\n",
    "- Choice of configuration $\\Psi=\\sum_\\mu C_\\mu |\\psi_\\mu>$\n",
    "- Energy depends on $C_\\mu$ and $c_i$\n",
    "- I missed the last step :("
   ]
  },
  {
   "cell_type": "markdown",
   "metadata": {},
   "source": [
    "## CASSCF"
   ]
  },
  {
   "cell_type": "markdown",
   "metadata": {},
   "source": [
    "How to choose the most important configurations?\n",
    "\n",
    "You can do it manually attending to resonable chemical ideas.\n",
    "\n",
    "A much better apporach is CAS (Complete Active Space):\n",
    "1. Divide the MOs in three groups (inactive orbitals, active orbitals and virtual orbitals)\n",
    "2. Double occupy the inactive orbitals\n",
    "3. Distribute the remaining electrons over the active orbitals (this generates the first Slater determinant)\n",
    "4. Distribute the active electron in **another way** over the active orbitals (another different Slater determinant $\\phi_2$!)\n",
    "5. Go on and on and on until exhausting all of the possibilities\n",
    "\n",
    "You'll end up with $\\Psi = C_1\\phi_1 + C_2\\phi_2 + C_3\\phi_3 + C_4\\phi_4 + C_5\\phi_5 ...$\n",
    "\n",
    "Now the problem is choosing the best orbitals insted of the best configurations (which is not such a terrible problem)."
   ]
  },
  {
   "cell_type": "markdown",
   "metadata": {},
   "source": [
    "However, there's not an *universal recipe* to choose orbitals, you must use your epic chemical knowledge: CASSCF is not a black box method (what method is, though?)."
   ]
  },
  {
   "cell_type": "markdown",
   "metadata": {},
   "source": [
    "Anyway CASSCF (which means Complete Active Space Self Consistent Field, by the way) is **not enough**. :(\n",
    "\n",
    "It's a starting point for multiconfigurational methods similarly to how HF is a starting point for monoconfigurational methods."
   ]
  },
  {
   "cell_type": "markdown",
   "metadata": {},
   "source": [
    "### CASSCF case study: quintet-singlet enregy difference in $Fe^\\textit{II}(\\textit{tz})_6$\n",
    "1. Fe 3d orbitals only: CAS(6,5)\n",
    "2. Adding electron correlation\n",
    "3. Second d shell (breathing)\n",
    "4. Ligand orbitals ($\\sigma$ donation)"
   ]
  },
  {
   "cell_type": "markdown",
   "metadata": {},
   "source": [
    "## CASPT2 (Complete Active Space with second order Perturbation Theory)\n",
    "Like MP2 but multiconfigurational yeeeeeessssss. :D\n",
    "\n",
    "Its basic ingredients are a good choice of starting Hamiltonian $\\hat{H}^{(0)}$, and the construction of the first order wavefunction.\n",
    "\n",
    "We can do a contracted or uncontracted expansion.\n",
    "\n",
    "**Contracted:** apply single and double excitations operators on the CAS function\n",
    "- Requires third order densitiy matrix linear dependencies in $\\Psi^{(1)}$\n",
    "- Enormous reduction of parameters\n",
    "\n",
    "**Uncontracted:** list of all Slater determinants with one or two electron replacements\n",
    "- Standard matrix elelemnts\n",
    "- Enormous amount of parameters"
   ]
  },
  {
   "cell_type": "markdown",
   "metadata": {},
   "source": [
    "Depending on the number of electrons you correlate you might suspect of intruder states.\n",
    "\n",
    "Compare reference weights of different electronic states or along a PES."
   ]
  },
  {
   "cell_type": "markdown",
   "metadata": {},
   "source": [
    "**Real solution:** add $\\psi_\\mu$ to the active space, more active orbitals\n",
    "\n",
    "**Pragmatic solution:** make determinants bigger"
   ]
  },
  {
   "cell_type": "markdown",
   "metadata": {},
   "source": [
    "## Random notes\n",
    "- Szabo is a great book to learn more about HF\n",
    "- Multiconfigurational reference =/= Multireference"
   ]
  }
 ],
 "metadata": {
  "kernelspec": {
   "display_name": "Python 3",
   "language": "python",
   "name": "python3"
  },
  "language_info": {
   "codemirror_mode": {
    "name": "ipython",
    "version": 3
   },
   "file_extension": ".py",
   "mimetype": "text/x-python",
   "name": "python",
   "nbconvert_exporter": "python",
   "pygments_lexer": "ipython3",
   "version": "3.7.3"
  }
 },
 "nbformat": 4,
 "nbformat_minor": 2
}
